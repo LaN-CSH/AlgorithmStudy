{
 "cells": [
  {
   "cell_type": "code",
   "execution_count": 1,
   "id": "0baa5834",
   "metadata": {},
   "outputs": [],
   "source": [
    "def solution(players, callings):\n",
    "    \n",
    "    dict_players = {}\n",
    "    dict_players2 = {}\n",
    "    \n",
    "    # (이름 : 등수), (등수: 이름)을 키-밸류쌍으로 갖는 딕셔너리를 각각 만든다. \n",
    "    for i in range(len(players)):\n",
    "        dict_players[players[i]] = i\n",
    "        dict_players2[i] = players[i]\n",
    "    \n",
    "    # 불러진 이름으로 등수를 확인하고 그 앞 등수와 이름의 등수를 바꿔준다.\n",
    "    # 이후 dictionary2에서 등수의 이름을 바꿔준다. \n",
    "    for called in callings:\n",
    "        temp1 = dict_players2[dict_players[called]]\n",
    "\n",
    "        dict_players2[dict_players[called]] = dict_players2[dict_players[called]-1]\n",
    "        dict_players2[dict_players[called]-1] = temp1\n",
    "        \n",
    "        temp2 = dict_players[dict_players2[dict_players[called]]]\n",
    "\n",
    "        dict_players[dict_players2[dict_players[called]]] = dict_players[dict_players2[dict_players[called]-1]]\n",
    "        dict_players[dict_players2[dict_players[called]-1]] = temp2\n",
    "        \n",
    " \n",
    "    answer = list(dict_players2.values())\n",
    "    return answer\n"
   ]
  },
  {
   "cell_type": "code",
   "execution_count": 2,
   "id": "76a8cd5e",
   "metadata": {},
   "outputs": [
    {
     "data": {
      "text/plain": [
       "['mumu', 'kai', 'mine', 'soe', 'poe']"
      ]
     },
     "execution_count": 2,
     "metadata": {},
     "output_type": "execute_result"
    }
   ],
   "source": [
    "solution([\"mumu\", \"soe\", \"poe\", \"kai\", \"mine\"], [\"kai\", \"kai\", \"mine\", \"mine\"])"
   ]
  },
  {
   "cell_type": "code",
   "execution_count": null,
   "id": "dccee03b",
   "metadata": {},
   "outputs": [],
   "source": []
  }
 ],
 "metadata": {
  "kernelspec": {
   "display_name": "Python 3 (ipykernel)",
   "language": "python",
   "name": "python3"
  },
  "language_info": {
   "codemirror_mode": {
    "name": "ipython",
    "version": 3
   },
   "file_extension": ".py",
   "mimetype": "text/x-python",
   "name": "python",
   "nbconvert_exporter": "python",
   "pygments_lexer": "ipython3",
   "version": "3.11.4"
  }
 },
 "nbformat": 4,
 "nbformat_minor": 5
}
